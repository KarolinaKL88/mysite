{
 "cells": [
  {
   "cell_type": "code",
   "execution_count": 1,
   "id": "6a169022",
   "metadata": {},
   "outputs": [],
   "source": [
    "import os\n",
    "os.environ[\"DJANGO_ALLOW_ASYNC_UNSAFE\"] = \"true\""
   ]
  },
  {
   "cell_type": "code",
   "execution_count": 2,
   "id": "62783cef",
   "metadata": {},
   "outputs": [],
   "source": [
    "from polls.models import Poll\n"
   ]
  },
  {
   "cell_type": "code",
   "execution_count": 3,
   "id": "02e48396",
   "metadata": {},
   "outputs": [
    {
     "data": {
      "text/plain": [
       "<QuerySet [<Poll: Poll object (1)>, <Poll: Poll object (2)>, <Poll: Poll object (3)>, <Poll: Poll object (4)>, <Poll: Poll object (5)>, <Poll: Poll object (6)>, <Poll: Poll object (7)>]>"
      ]
     },
     "execution_count": 3,
     "metadata": {},
     "output_type": "execute_result"
    }
   ],
   "source": [
    "Poll.objects.all()"
   ]
  },
  {
   "cell_type": "code",
   "execution_count": 4,
   "id": "ba54e6bb",
   "metadata": {},
   "outputs": [
    {
     "name": "stdout",
     "output_type": "stream",
     "text": [
      "SELECT \"polls_poll\".\"id\", \"polls_poll\".\"name\" FROM \"polls_poll\"\n"
     ]
    }
   ],
   "source": [
    "print(Poll.objects.all().query)"
   ]
  },
  {
   "cell_type": "code",
   "execution_count": 5,
   "id": "97c0c9bf",
   "metadata": {},
   "outputs": [
    {
     "data": {
      "text/plain": [
       "<Poll: Poll object (8)>"
      ]
     },
     "execution_count": 5,
     "metadata": {},
     "output_type": "execute_result"
    }
   ],
   "source": [
    "Poll.objects.create(name='My Third Poll')"
   ]
  },
  {
   "cell_type": "code",
   "execution_count": 6,
   "id": "5110ab7c",
   "metadata": {},
   "outputs": [
    {
     "ename": "AttributeError",
     "evalue": "'Poll' object has no attribute 'savew'",
     "output_type": "error",
     "traceback": [
      "\u001b[1;31m---------------------------------------------------------------------------\u001b[0m",
      "\u001b[1;31mAttributeError\u001b[0m                            Traceback (most recent call last)",
      "\u001b[1;32m~\\AppData\\Local\\Temp/ipykernel_10724/3774758081.py\u001b[0m in \u001b[0;36m<module>\u001b[1;34m\u001b[0m\n\u001b[0;32m      1\u001b[0m \u001b[0mp\u001b[0m \u001b[1;33m=\u001b[0m \u001b[0mPoll\u001b[0m\u001b[1;33m(\u001b[0m\u001b[0mname\u001b[0m \u001b[1;33m=\u001b[0m \u001b[1;34m\"My Fourth Poll\"\u001b[0m\u001b[1;33m)\u001b[0m\u001b[1;33m\u001b[0m\u001b[1;33m\u001b[0m\u001b[0m\n\u001b[1;32m----> 2\u001b[1;33m \u001b[0mp\u001b[0m\u001b[1;33m.\u001b[0m\u001b[0msavew\u001b[0m\u001b[1;33m(\u001b[0m\u001b[1;33m)\u001b[0m\u001b[1;33m\u001b[0m\u001b[1;33m\u001b[0m\u001b[0m\n\u001b[0m",
      "\u001b[1;31mAttributeError\u001b[0m: 'Poll' object has no attribute 'savew'"
     ]
    }
   ],
   "source": [
    "p = Poll(name = \"My Fourth Poll\")\n",
    "p.savew()"
   ]
  },
  {
   "cell_type": "code",
   "execution_count": null,
   "id": "2da217dc",
   "metadata": {},
   "outputs": [],
   "source": [
    "p = Poll(name = \"My Fourth Poll\")\n",
    "p.save()"
   ]
  },
  {
   "cell_type": "code",
   "execution_count": null,
   "id": "6b5f77d4",
   "metadata": {},
   "outputs": [],
   "source": [
    "Poll.objects.all()"
   ]
  },
  {
   "cell_type": "code",
   "execution_count": null,
   "id": "df6ad8db",
   "metadata": {},
   "outputs": [],
   "source": [
    "p = Poll(name = \"My sixth Poll\")\n",
    "p.save()"
   ]
  },
  {
   "cell_type": "code",
   "execution_count": null,
   "id": "788bee17",
   "metadata": {},
   "outputs": [],
   "source": [
    "Poll.objects.all()"
   ]
  },
  {
   "cell_type": "code",
   "execution_count": null,
   "id": "5a389f01",
   "metadata": {},
   "outputs": [],
   "source": [
    "polls = Poll.objects.all()"
   ]
  },
  {
   "cell_type": "code",
   "execution_count": null,
   "id": "6cb23f7a",
   "metadata": {},
   "outputs": [],
   "source": [
    "polls[1:]"
   ]
  },
  {
   "cell_type": "code",
   "execution_count": null,
   "id": "06521e7b",
   "metadata": {},
   "outputs": [],
   "source": [
    "from django.db import connection\n",
    "connection.queries[-1]"
   ]
  },
  {
   "cell_type": "code",
   "execution_count": null,
   "id": "caec3424",
   "metadata": {},
   "outputs": [],
   "source": [
    "p = Poll.objects.get(name = \"My First Poll\")"
   ]
  },
  {
   "cell_type": "code",
   "execution_count": null,
   "id": "65fdeba5",
   "metadata": {},
   "outputs": [],
   "source": [
    "p"
   ]
  },
  {
   "cell_type": "code",
   "execution_count": null,
   "id": "26b0b1a4",
   "metadata": {},
   "outputs": [],
   "source": [
    "p = Poll.objects.get(id=1)"
   ]
  },
  {
   "cell_type": "code",
   "execution_count": null,
   "id": "3d04848a",
   "metadata": {},
   "outputs": [],
   "source": [
    "p"
   ]
  },
  {
   "cell_type": "code",
   "execution_count": null,
   "id": "5544b4ad",
   "metadata": {},
   "outputs": [],
   "source": [
    "p.name"
   ]
  },
  {
   "cell_type": "code",
   "execution_count": null,
   "id": "ba7e796f",
   "metadata": {},
   "outputs": [],
   "source": [
    "p.id"
   ]
  },
  {
   "cell_type": "code",
   "execution_count": null,
   "id": "513ed371",
   "metadata": {},
   "outputs": [],
   "source": [
    "p.name = \"My Changed Poll\"\n",
    "p.save()"
   ]
  },
  {
   "cell_type": "code",
   "execution_count": null,
   "id": "9d23151a",
   "metadata": {},
   "outputs": [],
   "source": [
    "p.name"
   ]
  },
  {
   "cell_type": "code",
   "execution_count": null,
   "id": "d7062a5e",
   "metadata": {},
   "outputs": [],
   "source": [
    "Poll.objects.filter(name=\"My fifth Poll\")"
   ]
  },
  {
   "cell_type": "code",
   "execution_count": null,
   "id": "e7249fa5",
   "metadata": {},
   "outputs": [],
   "source": [
    "p"
   ]
  },
  {
   "cell_type": "code",
   "execution_count": null,
   "id": "29e33340",
   "metadata": {},
   "outputs": [],
   "source": [
    "Poll.objects.filter(name__startswith=\"M\")"
   ]
  },
  {
   "cell_type": "code",
   "execution_count": null,
   "id": "ba6ae852",
   "metadata": {},
   "outputs": [],
   "source": [
    "from polls.models import Question\n"
   ]
  },
  {
   "cell_type": "code",
   "execution_count": null,
   "id": "0a8e10f1",
   "metadata": {},
   "outputs": [],
   "source": [
    "from polls.models import Question"
   ]
  },
  {
   "cell_type": "code",
   "execution_count": null,
   "id": "46b0b436",
   "metadata": {},
   "outputs": [],
   "source": [
    "Poll.objects.create(name='My First Question')"
   ]
  },
  {
   "cell_type": "code",
   "execution_count": null,
   "id": "78311e17",
   "metadata": {},
   "outputs": [],
   "source": [
    "Question.objects.create(question_text='My Seventh Question')"
   ]
  },
  {
   "cell_type": "code",
   "execution_count": 10,
   "id": "ba09b6db",
   "metadata": {},
   "outputs": [],
   "source": [
    "q = Question.objects.get(id = 2)"
   ]
  },
  {
   "cell_type": "code",
   "execution_count": 11,
   "id": "313a1016",
   "metadata": {},
   "outputs": [
    {
     "data": {
      "text/plain": [
       "'My Second Question'"
      ]
     },
     "execution_count": 11,
     "metadata": {},
     "output_type": "execute_result"
    }
   ],
   "source": [
    "q.question_text"
   ]
  },
  {
   "cell_type": "code",
   "execution_count": 8,
   "id": "2ef0cc4a",
   "metadata": {},
   "outputs": [
    {
     "data": {
      "text/plain": [
       "<QuerySet [<Question: Question object (3)>, <Question: Question object (4)>, <Question: Question object (5)>, <Question: Question object (6)>, <Question: Question object (7)>]>"
      ]
     },
     "execution_count": 8,
     "metadata": {},
     "output_type": "execute_result"
    }
   ],
   "source": [
    "Question.objects.filter(id__gt=2)"
   ]
  },
  {
   "cell_type": "code",
   "execution_count": 12,
   "id": "e6a06c83",
   "metadata": {},
   "outputs": [
    {
     "data": {
      "text/plain": [
       "datetime.datetime(2021, 7, 17, 11, 50, 58, 903572, tzinfo=<UTC>)"
      ]
     },
     "execution_count": 12,
     "metadata": {},
     "output_type": "execute_result"
    }
   ],
   "source": [
    "q.pub_date"
   ]
  },
  {
   "cell_type": "code",
   "execution_count": 13,
   "id": "23c4afe8",
   "metadata": {},
   "outputs": [],
   "source": [
    "q.question_text = 'Changing question'\n",
    "q.save()"
   ]
  },
  {
   "cell_type": "code",
   "execution_count": null,
   "id": "a89df9a2",
   "metadata": {},
   "outputs": [],
   "source": []
  }
 ],
 "metadata": {
  "kernelspec": {
   "display_name": "Django Shell-Plus",
   "language": "python",
   "name": "django_extensions"
  },
  "language_info": {
   "codemirror_mode": {
    "name": "ipython",
    "version": 3
   },
   "file_extension": ".py",
   "mimetype": "text/x-python",
   "name": "python",
   "nbconvert_exporter": "python",
   "pygments_lexer": "ipython3",
   "version": "3.9.0"
  }
 },
 "nbformat": 4,
 "nbformat_minor": 5
}
