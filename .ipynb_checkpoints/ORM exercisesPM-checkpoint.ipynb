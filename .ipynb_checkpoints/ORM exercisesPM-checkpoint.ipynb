{
 "cells": [
  {
   "cell_type": "code",
   "execution_count": 1,
   "id": "28419997",
   "metadata": {},
   "outputs": [],
   "source": [
    "import os\n",
    "os.environ[\"DJANGO_ALLOW_ASYNC_UNSAFE\"] = \"true\""
   ]
  },
  {
   "cell_type": "code",
   "execution_count": 2,
   "id": "5d270111",
   "metadata": {},
   "outputs": [],
   "source": [
    "from polls.models import Answer, Poll, Question"
   ]
  },
  {
   "cell_type": "code",
   "execution_count": 3,
   "id": "cd8fc4e5",
   "metadata": {
    "scrolled": true
   },
   "outputs": [
    {
     "data": {
      "text/plain": [
       "<QuerySet [<Poll: Poll object (1)>, <Poll: Poll object (2)>, <Poll: Poll object (3)>, <Poll: Poll object (4)>, <Poll: Poll object (5)>, <Poll: Poll object (6)>, <Poll: Poll object (7)>, <Poll: Poll object (8)>, <Poll: Poll object (9)>, <Poll: Poll object (10)>]>"
      ]
     },
     "execution_count": 3,
     "metadata": {},
     "output_type": "execute_result"
    }
   ],
   "source": [
    "Poll.objects.all()"
   ]
  },
  {
   "cell_type": "code",
   "execution_count": 4,
   "id": "ea4d4ee7",
   "metadata": {},
   "outputs": [
    {
     "data": {
      "text/plain": [
       "<Poll: Poll object (11)>"
      ]
     },
     "execution_count": 4,
     "metadata": {},
     "output_type": "execute_result"
    }
   ],
   "source": [
    "Poll.objects.create(name=\"My Fifth Poll\")"
   ]
  },
  {
   "cell_type": "code",
   "execution_count": 5,
   "id": "bf483b3e",
   "metadata": {},
   "outputs": [],
   "source": [
    "p = Poll(name=\"My Fourth Poll\")\n",
    "p.save()"
   ]
  },
  {
   "cell_type": "code",
   "execution_count": 6,
   "id": "ab9b2ddf",
   "metadata": {
    "scrolled": true
   },
   "outputs": [
    {
     "data": {
      "text/plain": [
       "{'sql': 'INSERT INTO \"polls_poll\" (\"name\") VALUES (\\'My Fourth Poll\\')',\n",
       " 'time': '0.015'}"
      ]
     },
     "execution_count": 6,
     "metadata": {},
     "output_type": "execute_result"
    }
   ],
   "source": [
    "from django.db import connection\n",
    "connection.queries[-1]"
   ]
  },
  {
   "cell_type": "code",
   "execution_count": 7,
   "id": "4b4225ba",
   "metadata": {},
   "outputs": [],
   "source": [
    "polls = Poll.objects.all()"
   ]
  },
  {
   "cell_type": "code",
   "execution_count": 32,
   "id": "755df03c",
   "metadata": {},
   "outputs": [],
   "source": [
    "p = Poll.objects.get(id=3)"
   ]
  },
  {
   "cell_type": "code",
   "execution_count": 25,
   "id": "bc0bfdbd",
   "metadata": {},
   "outputs": [
    {
     "data": {
      "text/plain": [
       "<Poll: Poll object (2)>"
      ]
     },
     "execution_count": 25,
     "metadata": {},
     "output_type": "execute_result"
    }
   ],
   "source": [
    "p"
   ]
  },
  {
   "cell_type": "code",
   "execution_count": 9,
   "id": "537d3c66",
   "metadata": {},
   "outputs": [],
   "source": [
    "p.name = \"My Changed Poll\"\n",
    "p.save()"
   ]
  },
  {
   "cell_type": "code",
   "execution_count": 10,
   "id": "af3259eb",
   "metadata": {
    "scrolled": true
   },
   "outputs": [
    {
     "data": {
      "text/plain": [
       "<QuerySet [<Poll: Poll object (2)>, <Poll: Poll object (3)>, <Poll: Poll object (4)>, <Poll: Poll object (5)>, <Poll: Poll object (6)>, <Poll: Poll object (7)>, <Poll: Poll object (8)>, <Poll: Poll object (9)>, <Poll: Poll object (10)>, <Poll: Poll object (11)>, <Poll: Poll object (12)>]>"
      ]
     },
     "execution_count": 10,
     "metadata": {},
     "output_type": "execute_result"
    }
   ],
   "source": [
    "Poll.objects.filter(name__startswith=\"M\")"
   ]
  },
  {
   "cell_type": "code",
   "execution_count": 11,
   "id": "d3687da4",
   "metadata": {
    "scrolled": true
   },
   "outputs": [
    {
     "name": "stderr",
     "output_type": "stream",
     "text": [
      "/home/piotr/.local/lib/python3.8/site-packages/django/db/models/fields/__init__.py:1367: RuntimeWarning: DateTimeField Question.pub_date received a naive datetime (2021-07-17 14:00:00) while time zone support is active.\n",
      "  warnings.warn(\"DateTimeField %s received a naive datetime (%s)\"\n"
     ]
    },
    {
     "data": {
      "text/plain": [
       "<Question: Question object (4)>"
      ]
     },
     "execution_count": 11,
     "metadata": {},
     "output_type": "execute_result"
    }
   ],
   "source": [
    "Question.objects.create(question_text=\"Are you okay?\", pub_date=\"2021-07-17 14:00:00\")"
   ]
  },
  {
   "cell_type": "code",
   "execution_count": 30,
   "id": "52f8a812",
   "metadata": {},
   "outputs": [],
   "source": [
    "q = Question.objects.get(id=3)"
   ]
  },
  {
   "cell_type": "code",
   "execution_count": 14,
   "id": "4b2ef59b",
   "metadata": {},
   "outputs": [],
   "source": [
    "q.question_text = \"Are you okay\"\n",
    "q.save()"
   ]
  },
  {
   "cell_type": "code",
   "execution_count": 15,
   "id": "2acfd6cb",
   "metadata": {},
   "outputs": [
    {
     "data": {
      "text/plain": [
       "<QuerySet [<Question: Question object (3)>, <Question: Question object (4)>]>"
      ]
     },
     "execution_count": 15,
     "metadata": {},
     "output_type": "execute_result"
    }
   ],
   "source": [
    "Question.objects.filter(id__gt=)"
   ]
  },
  {
   "cell_type": "code",
   "execution_count": 35,
   "id": "cff261e1",
   "metadata": {},
   "outputs": [],
   "source": [
    "my_poll = Poll.objects.get(id=4)"
   ]
  },
  {
   "cell_type": "code",
   "execution_count": 31,
   "id": "a92b2f81",
   "metadata": {},
   "outputs": [],
   "source": [
    "q.poll = my_poll\n",
    "q.save()"
   ]
  },
  {
   "cell_type": "code",
   "execution_count": 33,
   "id": "1c87bf2f",
   "metadata": {
    "scrolled": true
   },
   "outputs": [
    {
     "name": "stderr",
     "output_type": "stream",
     "text": [
      "/home/piotr/.local/lib/python3.8/site-packages/django/db/models/fields/__init__.py:1367: RuntimeWarning: DateTimeField Question.pub_date received a naive datetime (2021-07-17 15:00:00) while time zone support is active.\n",
      "  warnings.warn(\"DateTimeField %s received a naive datetime (%s)\"\n"
     ]
    },
    {
     "data": {
      "text/plain": [
       "<Question: Question object (5)>"
      ]
     },
     "execution_count": 33,
     "metadata": {},
     "output_type": "execute_result"
    }
   ],
   "source": [
    "Question.objects.create(question_text=\"Will you marry me?\", pub_date=\"2021-07-17 15:00:00\", poll=my_poll)"
   ]
  },
  {
   "cell_type": "code",
   "execution_count": 3,
   "id": "21643cd2",
   "metadata": {},
   "outputs": [],
   "source": [
    "p = Poll.objects.get(id=2)"
   ]
  },
  {
   "cell_type": "code",
   "execution_count": 6,
   "id": "bb89d0a8",
   "metadata": {},
   "outputs": [
    {
     "data": {
      "text/plain": [
       "<QuerySet [<Question: Question object (1)>, <Question: Question object (2)>, <Question: Question object (3)>]>"
      ]
     },
     "execution_count": 6,
     "metadata": {},
     "output_type": "execute_result"
    }
   ],
   "source": [
    "p.questions.all()"
   ]
  },
  {
   "cell_type": "code",
   "execution_count": 10,
   "id": "288e8137",
   "metadata": {},
   "outputs": [
    {
     "data": {
      "text/plain": [
       "<QuerySet [<Question: Question object (5)>]>"
      ]
     },
     "execution_count": 10,
     "metadata": {},
     "output_type": "execute_result"
    }
   ],
   "source": [
    "Question.objects.filter(poll=3)"
   ]
  },
  {
   "cell_type": "code",
   "execution_count": 15,
   "id": "bd3a4233",
   "metadata": {},
   "outputs": [
    {
     "data": {
      "text/plain": [
       "<QuerySet [<Question: Question object (5)>]>"
      ]
     },
     "execution_count": 15,
     "metadata": {},
     "output_type": "execute_result"
    }
   ],
   "source": [
    "Question.objects.filter(poll__name__startswith=\"M\")"
   ]
  },
  {
   "cell_type": "code",
   "execution_count": 8,
   "id": "b41bbc97",
   "metadata": {},
   "outputs": [],
   "source": [
    "q = Question.objects.last()"
   ]
  },
  {
   "cell_type": "code",
   "execution_count": 9,
   "id": "20469f40",
   "metadata": {},
   "outputs": [
    {
     "data": {
      "text/plain": [
       "'Will you marry me?'"
      ]
     },
     "execution_count": 9,
     "metadata": {},
     "output_type": "execute_result"
    }
   ],
   "source": [
    "q.question_text"
   ]
  },
  {
   "cell_type": "code",
   "execution_count": 12,
   "id": "f61417a3",
   "metadata": {},
   "outputs": [
    {
     "data": {
      "text/plain": [
       "<Answer: Answer object (6)>"
      ]
     },
     "execution_count": 12,
     "metadata": {},
     "output_type": "execute_result"
    }
   ],
   "source": [
    "Answer.objects.create(answer_text=\"WHY?\", question=q)"
   ]
  },
  {
   "cell_type": "code",
   "execution_count": 15,
   "id": "684fb523",
   "metadata": {},
   "outputs": [],
   "source": [
    "a = Answer.objects.first()"
   ]
  },
  {
   "cell_type": "code",
   "execution_count": 20,
   "id": "30258c47",
   "metadata": {},
   "outputs": [
    {
     "data": {
      "text/plain": [
       "<Poll: Poll object (2)>"
      ]
     },
     "execution_count": 20,
     "metadata": {},
     "output_type": "execute_result"
    }
   ],
   "source": [
    "a.question.poll"
   ]
  },
  {
   "cell_type": "code",
   "execution_count": 32,
   "id": "809289be",
   "metadata": {},
   "outputs": [
    {
     "data": {
      "text/plain": [
       "<QuerySet [<Question: Question object (1)>, <Question: Question object (5)>]>"
      ]
     },
     "execution_count": 32,
     "metadata": {},
     "output_type": "execute_result"
    }
   ],
   "source": [
    "Question.objects.filter(answers__isnull=False).distinct()"
   ]
  },
  {
   "cell_type": "code",
   "execution_count": 30,
   "id": "84316e98",
   "metadata": {},
   "outputs": [
    {
     "data": {
      "text/plain": [
       "<QuerySet [<Question: Question object (1)>, <Question: Question object (5)>]>"
      ]
     },
     "execution_count": 30,
     "metadata": {},
     "output_type": "execute_result"
    }
   ],
   "source": [
    "Question.objects.exclude(answers__isnull=True)"
   ]
  },
  {
   "cell_type": "code",
   "execution_count": 33,
   "id": "fe33df63",
   "metadata": {},
   "outputs": [
    {
     "data": {
      "text/plain": [
       "5"
      ]
     },
     "execution_count": 33,
     "metadata": {},
     "output_type": "execute_result"
    }
   ],
   "source": [
    "len(Question.objects.all())"
   ]
  },
  {
   "cell_type": "code",
   "execution_count": 42,
   "id": "82533ac9",
   "metadata": {
    "scrolled": true
   },
   "outputs": [
    {
     "data": {
      "text/plain": [
       "<QuerySet [<Poll: Poll object (4)>, <Poll: Poll object (3)>, <Poll: Poll object (5)>, <Poll: Poll object (8)>, <Poll: Poll object (10)>, <Poll: Poll object (12)>, <Poll: Poll object (6)>, <Poll: Poll object (7)>, <Poll: Poll object (9)>, <Poll: Poll object (11)>, <Poll: Poll object (2)>, <Poll: Poll object (1)>]>"
      ]
     },
     "execution_count": 42,
     "metadata": {},
     "output_type": "execute_result"
    }
   ],
   "source": [
    "Poll.objects.order_by(\"-name\")"
   ]
  },
  {
   "cell_type": "code",
   "execution_count": 43,
   "id": "9f0286bd",
   "metadata": {},
   "outputs": [
    {
     "name": "stderr",
     "output_type": "stream",
     "text": [
      "/home/piotr/.local/lib/python3.8/site-packages/django/db/models/fields/__init__.py:1367: RuntimeWarning: DateTimeField Question.pub_date received a naive datetime (1999-10-10 12:54:00) while time zone support is active.\n",
      "  warnings.warn(\"DateTimeField %s received a naive datetime (%s)\"\n"
     ]
    },
    {
     "data": {
      "text/plain": [
       "5"
      ]
     },
     "execution_count": 43,
     "metadata": {},
     "output_type": "execute_result"
    }
   ],
   "source": [
    "Question.objects.update(pub_date=\"1999-10-10 12:54:00\")"
   ]
  },
  {
   "cell_type": "code",
   "execution_count": 44,
   "id": "50b433e6",
   "metadata": {},
   "outputs": [
    {
     "data": {
      "text/plain": [
       "datetime.datetime(1999, 10, 10, 12, 54, tzinfo=<UTC>)"
      ]
     },
     "execution_count": 44,
     "metadata": {},
     "output_type": "execute_result"
    }
   ],
   "source": [
    "q = Question.objects.first()\n",
    "q.pub_date"
   ]
  },
  {
   "cell_type": "code",
   "execution_count": 45,
   "id": "9336dac8",
   "metadata": {
    "scrolled": true
   },
   "outputs": [
    {
     "data": {
      "text/plain": [
       "(4, {'polls.Answer': 3, 'polls.Question': 1})"
      ]
     },
     "execution_count": 45,
     "metadata": {},
     "output_type": "execute_result"
    }
   ],
   "source": [
    "q.delete()"
   ]
  },
  {
   "cell_type": "code",
   "execution_count": 47,
   "id": "26857ee1",
   "metadata": {},
   "outputs": [],
   "source": [
    "q = Question.objects.last()"
   ]
  },
  {
   "cell_type": "code",
   "execution_count": 50,
   "id": "b4dcf3f1",
   "metadata": {},
   "outputs": [],
   "source": [
    "q.question_text = \"Do you like me?\"\n",
    "q.save(update_fields=[\"question_text\"])"
   ]
  }
 ],
 "metadata": {
  "kernelspec": {
   "display_name": "Django Shell-Plus",
   "language": "python",
   "name": "django_extensions"
  },
  "language_info": {
   "codemirror_mode": {
    "name": "ipython",
    "version": 3
   },
   "file_extension": ".py",
   "mimetype": "text/x-python",
   "name": "python",
   "nbconvert_exporter": "python",
   "pygments_lexer": "ipython3",
   "version": "3.8.10"
  }
 },
 "nbformat": 4,
 "nbformat_minor": 5
}
