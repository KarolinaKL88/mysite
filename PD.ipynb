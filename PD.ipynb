{
 "cells": [
  {
   "cell_type": "code",
   "execution_count": 1,
   "id": "0086f773",
   "metadata": {},
   "outputs": [],
   "source": [
    "import os\n",
    "os.environ[\"DJANGO_ALLOW_ASYNC_UNSAFE\"] = \"true\""
   ]
  },
  {
   "cell_type": "code",
   "execution_count": 2,
   "id": "140371f5",
   "metadata": {},
   "outputs": [],
   "source": [
    "from movies.models import Actor, Movie, Country, Oscar"
   ]
  },
  {
   "cell_type": "code",
   "execution_count": 8,
   "id": "c27f20c5",
   "metadata": {},
   "outputs": [
    {
     "data": {
      "text/plain": [
       "<QuerySet [<Actor: Uma Thurman>, <Actor: Jake Gyllenhaal>, <Actor: Brad Pitt>, <Actor: Bradley Cooper>, <Actor: Meryl Streep>, <Actor: Matt Damon>, <Actor: John Travolta>, <Actor: Angelina Jolie>, <Actor: Leonardo DiCaprio>]>"
      ]
     },
     "execution_count": 8,
     "metadata": {},
     "output_type": "execute_result"
    }
   ],
   "source": [
    "Actor.objects.all()"
   ]
  },
  {
   "cell_type": "code",
   "execution_count": 4,
   "id": "31a87d0c",
   "metadata": {},
   "outputs": [],
   "source": [
    "a = Actor.objects.get(name=\"Angelina\")"
   ]
  },
  {
   "cell_type": "code",
   "execution_count": 5,
   "id": "7c7e5d34",
   "metadata": {},
   "outputs": [
    {
     "name": "stdout",
     "output_type": "stream",
     "text": [
      "Angelina Jolie\n"
     ]
    }
   ],
   "source": [
    "print(a)"
   ]
  },
  {
   "cell_type": "markdown",
   "id": "c7798ad8",
   "metadata": {},
   "source": [
    "Movie.objects.all()"
   ]
  },
  {
   "cell_type": "code",
   "execution_count": 6,
   "id": "538a4044",
   "metadata": {},
   "outputs": [
    {
     "data": {
      "text/plain": [
       "<QuerySet [<Oscar: Best Film, 2003>, <Oscar: Best Actor, 1997>, <Oscar: Best Actress, 2018>, <Oscar: Best Music, 2018>]>"
      ]
     },
     "execution_count": 6,
     "metadata": {},
     "output_type": "execute_result"
    }
   ],
   "source": [
    "Oscar.objects.all()"
   ]
  },
  {
   "cell_type": "code",
   "execution_count": 10,
   "id": "ac282eb0",
   "metadata": {},
   "outputs": [
    {
     "data": {
      "text/plain": [
       "<QuerySet [<Country: United States>, <Country: Great Britain>, <Country: Poland>, <Country: Spain>]>"
      ]
     },
     "execution_count": 10,
     "metadata": {},
     "output_type": "execute_result"
    }
   ],
   "source": [
    "Country.objects.all()"
   ]
  },
  {
   "cell_type": "code",
   "execution_count": 11,
   "id": "07bfd149",
   "metadata": {},
   "outputs": [
    {
     "data": {
      "text/plain": [
       "'Angelina'"
      ]
     },
     "execution_count": 11,
     "metadata": {},
     "output_type": "execute_result"
    }
   ],
   "source": [
    "a.name"
   ]
  },
  {
   "cell_type": "code",
   "execution_count": 12,
   "id": "cd5e07fb",
   "metadata": {},
   "outputs": [
    {
     "data": {
      "text/plain": [
       "'Jolie'"
      ]
     },
     "execution_count": 12,
     "metadata": {},
     "output_type": "execute_result"
    }
   ],
   "source": [
    "a.last_name"
   ]
  },
  {
   "cell_type": "code",
   "execution_count": 13,
   "id": "a76a272b",
   "metadata": {},
   "outputs": [
    {
     "data": {
      "text/plain": [
       "'F'"
      ]
     },
     "execution_count": 13,
     "metadata": {},
     "output_type": "execute_result"
    }
   ],
   "source": [
    "a.gender"
   ]
  },
  {
   "cell_type": "code",
   "execution_count": 84,
   "id": "41099a58",
   "metadata": {},
   "outputs": [],
   "source": [
    "o9 = Oscar.objects.get(id=9)"
   ]
  },
  {
   "cell_type": "code",
   "execution_count": 15,
   "id": "729b7d9b",
   "metadata": {},
   "outputs": [
    {
     "data": {
      "text/plain": [
       "<Oscar: Best Film, 2003>"
      ]
     },
     "execution_count": 15,
     "metadata": {},
     "output_type": "execute_result"
    }
   ],
   "source": [
    "o1"
   ]
  },
  {
   "cell_type": "code",
   "execution_count": 19,
   "id": "25bf5965",
   "metadata": {},
   "outputs": [
    {
     "name": "stdout",
     "output_type": "stream",
     "text": [
      "Best Film, 2003 Best Actor, 1997 Best Actress, 2018 Best Music, 2018\n"
     ]
    }
   ],
   "source": [
    "print(o1, o2, o3, o4)"
   ]
  },
  {
   "cell_type": "code",
   "execution_count": 40,
   "id": "0271b6e2",
   "metadata": {},
   "outputs": [],
   "source": [
    "m9 = Movie.objects.get(id=9)"
   ]
  },
  {
   "cell_type": "code",
   "execution_count": 31,
   "id": "f0f97b8e",
   "metadata": {},
   "outputs": [],
   "source": [
    "a9 = Actor.objects.get(id=9)"
   ]
  },
  {
   "cell_type": "code",
   "execution_count": 46,
   "id": "0b05e1ca",
   "metadata": {},
   "outputs": [],
   "source": [
    "c4 = Country.objects.get(id=4)"
   ]
  },
  {
   "cell_type": "code",
   "execution_count": 47,
   "id": "9a396e2f",
   "metadata": {},
   "outputs": [
    {
     "data": {
      "text/plain": [
       "'Uma'"
      ]
     },
     "execution_count": 47,
     "metadata": {},
     "output_type": "execute_result"
    }
   ],
   "source": [
    "m1.actor.name"
   ]
  },
  {
   "cell_type": "code",
   "execution_count": 48,
   "id": "3c3d33ad",
   "metadata": {},
   "outputs": [
    {
     "data": {
      "text/plain": [
       "<Movie: Kill Bill, 2003>"
      ]
     },
     "execution_count": 48,
     "metadata": {},
     "output_type": "execute_result"
    }
   ],
   "source": [
    "m1"
   ]
  },
  {
   "cell_type": "code",
   "execution_count": 52,
   "id": "8b83236b",
   "metadata": {},
   "outputs": [
    {
     "data": {
      "text/plain": [
       "'Bradley'"
      ]
     },
     "execution_count": 52,
     "metadata": {},
     "output_type": "execute_result"
    }
   ],
   "source": [
    "o4.actor.name"
   ]
  },
  {
   "cell_type": "code",
   "execution_count": 55,
   "id": "dbce6ca8",
   "metadata": {},
   "outputs": [
    {
     "data": {
      "text/plain": [
       "<QuerySet [<Movie: The Witch, 2014>, <Movie: Wanted, 2008>]>"
      ]
     },
     "execution_count": 55,
     "metadata": {},
     "output_type": "execute_result"
    }
   ],
   "source": [
    "a.movies.all()"
   ]
  },
  {
   "cell_type": "code",
   "execution_count": 56,
   "id": "9a93c675",
   "metadata": {},
   "outputs": [
    {
     "data": {
      "text/plain": [
       "<QuerySet [<Movie: Kill Bill, 2003>]>"
      ]
     },
     "execution_count": 56,
     "metadata": {},
     "output_type": "execute_result"
    }
   ],
   "source": [
    "a1.movies.all()"
   ]
  },
  {
   "cell_type": "code",
   "execution_count": 57,
   "id": "9b5492da",
   "metadata": {},
   "outputs": [
    {
     "ename": "IndentationError",
     "evalue": "expected an indented block (Temp/ipykernel_12964/3274639670.py, line 1)",
     "output_type": "error",
     "traceback": [
      "\u001b[1;36m  File \u001b[1;32m\"C:\\Users\\karol\\AppData\\Local\\Temp/ipykernel_12964/3274639670.py\"\u001b[1;36m, line \u001b[1;32m1\u001b[0m\n\u001b[1;33m    for a in Actor.objects.all():\u001b[0m\n\u001b[1;37m                                 ^\u001b[0m\n\u001b[1;31mIndentationError\u001b[0m\u001b[1;31m:\u001b[0m expected an indented block\n"
     ]
    }
   ],
   "source": [
    "for a in Actor.objects.all():"
   ]
  },
  {
   "cell_type": "code",
   "execution_count": 58,
   "id": "566112e6",
   "metadata": {},
   "outputs": [
    {
     "name": "stdout",
     "output_type": "stream",
     "text": [
      "<QuerySet [<Movie: Kill Bill, 2003>]>\n",
      "<QuerySet []>\n",
      "<QuerySet []>\n",
      "<QuerySet [<Movie: The Star is born, 2018>, <Movie: Joker, 2019>]>\n",
      "<QuerySet [<Movie: Mery Poppins Returns, 2018>]>\n",
      "<QuerySet [<Movie: Jason Bourne, 2016>, <Movie: The Talented Mr. Ripley, 1999>]>\n",
      "<QuerySet []>\n",
      "<QuerySet [<Movie: The Witch, 2014>, <Movie: Wanted, 2008>]>\n",
      "<QuerySet [<Movie: Titanic, 1997>]>\n"
     ]
    }
   ],
   "source": [
    "for a in Actor.objects.all():\n",
    "    print(a.movies.all())"
   ]
  },
  {
   "cell_type": "code",
   "execution_count": 59,
   "id": "dc87b147",
   "metadata": {},
   "outputs": [
    {
     "name": "stdout",
     "output_type": "stream",
     "text": [
      "<QuerySet [<Oscar: Best Film, 2003>]>\n",
      "<QuerySet []>\n",
      "<QuerySet []>\n",
      "<QuerySet [<Oscar: Best Music, 2018>]>\n",
      "<QuerySet [<Oscar: Best Actress, 2018>]>\n",
      "<QuerySet []>\n",
      "<QuerySet []>\n",
      "<QuerySet []>\n",
      "<QuerySet [<Oscar: Best Actor, 1997>]>\n"
     ]
    }
   ],
   "source": [
    "for a in Actor.objects.all():\n",
    "    print(a.oscars.all())"
   ]
  },
  {
   "cell_type": "code",
   "execution_count": 60,
   "id": "b658e081",
   "metadata": {},
   "outputs": [
    {
     "ename": "AttributeError",
     "evalue": "'Actor' object has no attribute 'count'",
     "output_type": "error",
     "traceback": [
      "\u001b[1;31m---------------------------------------------------------------------------\u001b[0m",
      "\u001b[1;31mAttributeError\u001b[0m                            Traceback (most recent call last)",
      "\u001b[1;32m~\\AppData\\Local\\Temp/ipykernel_12964/2193690727.py\u001b[0m in \u001b[0;36m<module>\u001b[1;34m\u001b[0m\n\u001b[0;32m      1\u001b[0m \u001b[1;32mfor\u001b[0m \u001b[0ma\u001b[0m \u001b[1;32min\u001b[0m \u001b[0mActor\u001b[0m\u001b[1;33m.\u001b[0m\u001b[0mobjects\u001b[0m\u001b[1;33m.\u001b[0m\u001b[0mall\u001b[0m\u001b[1;33m(\u001b[0m\u001b[1;33m)\u001b[0m\u001b[1;33m:\u001b[0m\u001b[1;33m\u001b[0m\u001b[1;33m\u001b[0m\u001b[0m\n\u001b[1;32m----> 2\u001b[1;33m     \u001b[0mprint\u001b[0m\u001b[1;33m(\u001b[0m\u001b[0ma\u001b[0m\u001b[1;33m.\u001b[0m\u001b[0mcount\u001b[0m\u001b[1;33m.\u001b[0m\u001b[0moscars\u001b[0m\u001b[1;33m)\u001b[0m\u001b[1;33m\u001b[0m\u001b[1;33m\u001b[0m\u001b[0m\n\u001b[0m",
      "\u001b[1;31mAttributeError\u001b[0m: 'Actor' object has no attribute 'count'"
     ]
    }
   ],
   "source": [
    "for a in Actor.objects.all():\n",
    "    print(a.count.oscars)"
   ]
  },
  {
   "cell_type": "code",
   "execution_count": 61,
   "id": "8b30056a",
   "metadata": {},
   "outputs": [
    {
     "data": {
      "text/plain": [
       "1"
      ]
     },
     "execution_count": 61,
     "metadata": {},
     "output_type": "execute_result"
    }
   ],
   "source": [
    "a1.oscars.count()"
   ]
  },
  {
   "cell_type": "code",
   "execution_count": 63,
   "id": "7869e4d3",
   "metadata": {},
   "outputs": [
    {
     "name": "stdout",
     "output_type": "stream",
     "text": [
      "1\n",
      "0\n",
      "0\n",
      "1\n",
      "1\n",
      "0\n",
      "0\n",
      "0\n",
      "1\n"
     ]
    }
   ],
   "source": [
    "for a in Actor.objects.all():\n",
    "    print(a.oscars.count())"
   ]
  },
  {
   "cell_type": "code",
   "execution_count": 64,
   "id": "e2c87489",
   "metadata": {},
   "outputs": [
    {
     "name": "stdout",
     "output_type": "stream",
     "text": [
      "1\n",
      "1\n",
      "1\n",
      "0\n",
      "0\n",
      "0\n",
      "0\n",
      "1\n",
      "0\n"
     ]
    }
   ],
   "source": [
    "for m in Movie.objects.all():\n",
    "    print(m.oscars.count())"
   ]
  },
  {
   "cell_type": "code",
   "execution_count": 68,
   "id": "9c16199c",
   "metadata": {},
   "outputs": [
    {
     "data": {
      "text/plain": [
       "<QuerySet [<Movie: Kill Bill, 2003>, <Movie: The Witch, 2014>, <Movie: Wanted, 2008>]>"
      ]
     },
     "execution_count": 68,
     "metadata": {},
     "output_type": "execute_result"
    }
   ],
   "source": [
    "Movie.objects.filter(country=1)"
   ]
  },
  {
   "cell_type": "code",
   "execution_count": 72,
   "id": "a056f91e",
   "metadata": {},
   "outputs": [
    {
     "data": {
      "text/plain": [
       "<QuerySet [<Movie: Kill Bill, 2003>, <Movie: The Witch, 2014>, <Movie: Wanted, 2008>]>"
      ]
     },
     "execution_count": 72,
     "metadata": {},
     "output_type": "execute_result"
    }
   ],
   "source": [
    "Movie.objects.filter(country__name=\"United States\")"
   ]
  },
  {
   "cell_type": "code",
   "execution_count": 74,
   "id": "cd54d989",
   "metadata": {},
   "outputs": [
    {
     "data": {
      "text/plain": [
       "<QuerySet [<Movie: Titanic, 1997>, <Movie: Mery Poppins Returns, 2018>, <Movie: Jason Bourne, 2016>, <Movie: The Talented Mr. Ripley, 1999>, <Movie: The Star is born, 2018>, <Movie: Joker, 2019>]>"
      ]
     },
     "execution_count": 74,
     "metadata": {},
     "output_type": "execute_result"
    }
   ],
   "source": [
    "Movie.objects.exclude(country__name=\"United States\")"
   ]
  },
  {
   "cell_type": "code",
   "execution_count": 78,
   "id": "eff7c845",
   "metadata": {},
   "outputs": [
    {
     "data": {
      "text/plain": [
       "<QuerySet [<Actor: Jake Gyllenhaal>, <Actor: Bradley Cooper>, <Actor: Angelina Jolie>, <Actor: Leonardo DiCaprio>, <Actor: Matt Damon>, <Actor: Uma Thurman>, <Actor: Brad Pitt>, <Actor: John Travolta>, <Actor: Meryl Streep>]>"
      ]
     },
     "execution_count": 78,
     "metadata": {},
     "output_type": "execute_result"
    }
   ],
   "source": [
    "Actor.objects.all().order_by(\"age\")"
   ]
  },
  {
   "cell_type": "code",
   "execution_count": 79,
   "id": "bb1817fb",
   "metadata": {},
   "outputs": [
    {
     "data": {
      "text/plain": [
       "<Oscar: Best Film, 2003>"
      ]
     },
     "execution_count": 79,
     "metadata": {},
     "output_type": "execute_result"
    }
   ],
   "source": [
    "o1"
   ]
  },
  {
   "cell_type": "code",
   "execution_count": 85,
   "id": "a8aec2b4",
   "metadata": {},
   "outputs": [
    {
     "name": "stdout",
     "output_type": "stream",
     "text": [
      "Best Film, 2003\n",
      "Best Actor, 1997\n",
      "Best Actress, 2018\n",
      "Best Music, 2018\n",
      "Best Film, 2019\n",
      "Best Film, 2008\n",
      "Best Actor, 2003\n",
      "Best Actress, 2018\n",
      "Best Music, 1999\n"
     ]
    }
   ],
   "source": [
    "for o in Oscar.objects.all():\n",
    "    print(o)"
   ]
  },
  {
   "cell_type": "code",
   "execution_count": 105,
   "id": "68e66b72",
   "metadata": {
    "scrolled": true
   },
   "outputs": [
    {
     "name": "stdout",
     "output_type": "stream",
     "text": [
      "Best Film, 2003 Kill Bill, 2003 United States\n",
      "Best Film, 2019 Joker, 2019 Great Britain\n",
      "Best Film, 2008 Wanted, 2008 United States\n"
     ]
    }
   ],
   "source": [
    "for o in Oscar.objects.filter(category=\"Best Film\"):\n",
    "    print(o, o.movie, o.movie.country)"
   ]
  },
  {
   "cell_type": "code",
   "execution_count": 95,
   "id": "e680ca2a",
   "metadata": {},
   "outputs": [
    {
     "name": "stdout",
     "output_type": "stream",
     "text": [
      "United States USA\n",
      "Great Britain GB\n",
      "Poland PL\n",
      "Spain ES\n"
     ]
    }
   ],
   "source": [
    "for c in Country.objects.all():\n",
    "    print(c, c.iso_code)"
   ]
  },
  {
   "cell_type": "code",
   "execution_count": null,
   "id": "ba9e98d6",
   "metadata": {},
   "outputs": [],
   "source": []
  }
 ],
 "metadata": {
  "kernelspec": {
   "display_name": "Django Shell-Plus",
   "language": "python",
   "name": "django_extensions"
  },
  "language_info": {
   "codemirror_mode": {
    "name": "ipython",
    "version": 3
   },
   "file_extension": ".py",
   "mimetype": "text/x-python",
   "name": "python",
   "nbconvert_exporter": "python",
   "pygments_lexer": "ipython3",
   "version": "3.9.0"
  }
 },
 "nbformat": 4,
 "nbformat_minor": 5
}
